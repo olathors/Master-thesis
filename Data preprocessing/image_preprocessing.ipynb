{
 "cells": [
  {
   "cell_type": "code",
   "execution_count": 2,
   "metadata": {},
   "outputs": [],
   "source": [
    "import os\n",
    "import pandas as pd\n",
    "import numpy as np"
   ]
  },
  {
   "cell_type": "code",
   "execution_count": 3,
   "metadata": {},
   "outputs": [],
   "source": [
    "cn_dict_with_images = np.load(\"data/cn_dict_with_images.npy\",allow_pickle='TRUE').item()\n",
    "ad_dict_with_images = np.load(\"data/ad_dict_with_images.npy\",allow_pickle='TRUE').item()\n",
    "smci_dict_with_images = np.load(\"data/smci_dict_with_images.npy\",allow_pickle='TRUE').item()\n",
    "pmci_dict_with_images = np.load(\"data/pmci_dict_with_images.npy\",allow_pickle='TRUE').item()"
   ]
  }
 ],
 "metadata": {
  "kernelspec": {
   "display_name": "Python 3",
   "language": "python",
   "name": "python3"
  },
  "language_info": {
   "codemirror_mode": {
    "name": "ipython",
    "version": 3
   },
   "file_extension": ".py",
   "mimetype": "text/x-python",
   "name": "python",
   "nbconvert_exporter": "python",
   "pygments_lexer": "ipython3",
   "version": "3.13.0"
  }
 },
 "nbformat": 4,
 "nbformat_minor": 2
}
