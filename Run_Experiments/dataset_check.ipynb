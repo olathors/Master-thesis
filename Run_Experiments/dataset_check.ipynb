{
 "cells": [
  {
   "cell_type": "code",
   "execution_count": 1,
   "metadata": {},
   "outputs": [],
   "source": [
    "import pandas as pd"
   ]
  },
  {
   "cell_type": "code",
   "execution_count": 2,
   "metadata": {},
   "outputs": [],
   "source": [
    "train = pd.read_csv('/Users/olath/Documents/GitHub/Master-thesis/train_CN-BIGMCI-AD-timewindow')\n",
    "test = pd.read_csv('/Users/olath/Documents/GitHub/Master-thesis/test_CN-BIGMCI-AD-timewindow')\n",
    "val = pd.read_csv('/Users/olath/Documents/GitHub/Master-thesis/val_CN-BIGMCI-AD-timewindow')\n"
   ]
  },
  {
   "cell_type": "code",
   "execution_count": 3,
   "metadata": {},
   "outputs": [],
   "source": [
    "train_patients = train['PATIENT_ID'].unique()\n",
    "test_patients = test['PATIENT_ID'].unique()\n",
    "val_patients = val['PATIENT_ID'].unique()\n",
    "\n",
    "train_images = train['IMAGE_ID'].unique()\n",
    "test_images = test['IMAGE_ID'].unique()\n",
    "val_images = val['IMAGE_ID'].unique()\n"
   ]
  },
  {
   "cell_type": "code",
   "execution_count": 4,
   "metadata": {},
   "outputs": [],
   "source": [
    "if set(train_patients).intersection(set(test_patients)) or set(train_patients).intersection(set(val_patients)) or set(test_patients).intersection(set(val_patients)):\n",
    "    print(\"Error. Patient overlap\")\n",
    "\n",
    "if set(train_images).intersection(set(test_images)) or set(train_images).intersection(set(val_images)) or set(test_images).intersection(set(val_images)):\n",
    "    print(\"Error. Image overlap\")"
   ]
  },
  {
   "cell_type": "code",
   "execution_count": 5,
   "metadata": {},
   "outputs": [
    {
     "name": "stdout",
     "output_type": "stream",
     "text": [
      "False\n",
      "False\n",
      "False\n"
     ]
    }
   ],
   "source": [
    "print(train['IMAGE_ID'].duplicated().any())\n",
    "print(test['IMAGE_ID'].duplicated().any())\n",
    "print(val['IMAGE_ID'].duplicated().any())"
   ]
  }
 ],
 "metadata": {
  "kernelspec": {
   "display_name": "thesis",
   "language": "python",
   "name": "python3"
  },
  "language_info": {
   "codemirror_mode": {
    "name": "ipython",
    "version": 3
   },
   "file_extension": ".py",
   "mimetype": "text/x-python",
   "name": "python",
   "nbconvert_exporter": "python",
   "pygments_lexer": "ipython3",
   "version": "3.11.10"
  }
 },
 "nbformat": 4,
 "nbformat_minor": 2
}
