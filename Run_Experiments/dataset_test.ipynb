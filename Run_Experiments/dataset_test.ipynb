{
 "cells": [
  {
   "cell_type": "code",
   "execution_count": 1,
   "metadata": {},
   "outputs": [],
   "source": [
    "from mri_dataset import MRI_Dataset\n",
    "from matplotlib import pyplot as plt"
   ]
  },
  {
   "cell_type": "code",
   "execution_count": 2,
   "metadata": {},
   "outputs": [],
   "source": [
    "dataset = MRI_Dataset('/Users/olath/Documents/GitHub/Master-thesis/test')"
   ]
  },
  {
   "cell_type": "code",
   "execution_count": 3,
   "metadata": {},
   "outputs": [],
   "source": [
    "image = dataset.__getitem__(1)[0]"
   ]
  },
  {
   "cell_type": "code",
   "execution_count": 4,
   "metadata": {},
   "outputs": [
    {
     "data": {
      "text/plain": [
       "tensor([[[0.7020, 0.7255, 0.6863,  ..., 0.0471, 0.0549, 0.0588],\n",
       "         [0.7176, 0.7529, 0.7529,  ..., 0.0706, 0.1020, 0.1137],\n",
       "         [0.7216, 0.7686, 0.8039,  ..., 0.1843, 0.3020, 0.3765],\n",
       "         ...,\n",
       "         [0.5922, 0.5843, 0.4980,  ..., 0.1451, 0.3294, 0.4941],\n",
       "         [0.4627, 0.4980, 0.5137,  ..., 0.3373, 0.4784, 0.5608],\n",
       "         [0.3255, 0.3176, 0.3882,  ..., 0.4510, 0.5255, 0.5569]],\n",
       "\n",
       "        [[0.7020, 0.7255, 0.6863,  ..., 0.0471, 0.0549, 0.0588],\n",
       "         [0.7176, 0.7529, 0.7529,  ..., 0.0706, 0.1020, 0.1137],\n",
       "         [0.7216, 0.7686, 0.8039,  ..., 0.1843, 0.3020, 0.3765],\n",
       "         ...,\n",
       "         [0.5922, 0.5843, 0.4980,  ..., 0.1451, 0.3294, 0.4941],\n",
       "         [0.4627, 0.4980, 0.5137,  ..., 0.3373, 0.4784, 0.5608],\n",
       "         [0.3255, 0.3176, 0.3882,  ..., 0.4510, 0.5255, 0.5569]],\n",
       "\n",
       "        [[0.7020, 0.7255, 0.6863,  ..., 0.0471, 0.0549, 0.0588],\n",
       "         [0.7176, 0.7529, 0.7529,  ..., 0.0706, 0.1020, 0.1137],\n",
       "         [0.7216, 0.7686, 0.8039,  ..., 0.1843, 0.3020, 0.3765],\n",
       "         ...,\n",
       "         [0.5922, 0.5843, 0.4980,  ..., 0.1451, 0.3294, 0.4941],\n",
       "         [0.4627, 0.4980, 0.5137,  ..., 0.3373, 0.4784, 0.5608],\n",
       "         [0.3255, 0.3176, 0.3882,  ..., 0.4510, 0.5255, 0.5569]]])"
      ]
     },
     "execution_count": 4,
     "metadata": {},
     "output_type": "execute_result"
    }
   ],
   "source": [
    "image"
   ]
  }
 ],
 "metadata": {
  "kernelspec": {
   "display_name": "base",
   "language": "python",
   "name": "python3"
  },
  "language_info": {
   "codemirror_mode": {
    "name": "ipython",
    "version": 3
   },
   "file_extension": ".py",
   "mimetype": "text/x-python",
   "name": "python",
   "nbconvert_exporter": "python",
   "pygments_lexer": "ipython3",
   "version": "3.12.7"
  }
 },
 "nbformat": 4,
 "nbformat_minor": 2
}
