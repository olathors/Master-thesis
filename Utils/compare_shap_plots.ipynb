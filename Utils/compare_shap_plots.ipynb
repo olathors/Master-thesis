{
 "cells": [
  {
   "cell_type": "code",
   "execution_count": 21,
   "metadata": {},
   "outputs": [],
   "source": [
    "import pandas as pd\n",
    "import numpy as np\n",
    "import scipy"
   ]
  },
  {
   "cell_type": "code",
   "execution_count": null,
   "metadata": {},
   "outputs": [],
   "source": [
    "shap_1 = pd.read_csv('/Users/olath/Downloads/finalshap_13/experiment_predlabel-AD_truelabel-AD_numimages-20_numsamples-2000_time-202505010110/plot_shap_strip_202505010143.csv')\n",
    "shap_2 = pd.read_csv('/Users/olath/Downloads/plot_shap_strip_202505021636.csv')"
   ]
  },
  {
   "cell_type": "code",
   "execution_count": null,
   "metadata": {},
   "outputs": [],
   "source": [
    "def mean_confidence_interval(data, confidence=0.95):#\n",
    "    a = 1.0 * np.array(data)\n",
    "    n = len(a)\n",
    "    m, se = np.mean(a), scipy.stats.sem(a)\n",
    "    h = se * scipy.stats.t.ppf((1 + confidence) / 2., n-1)\n",
    "    return m, h, np.std(a)"
   ]
  },
  {
   "cell_type": "code",
   "execution_count": null,
   "metadata": {},
   "outputs": [],
   "source": []
  },
  {
   "cell_type": "code",
   "execution_count": 69,
   "metadata": {},
   "outputs": [],
   "source": [
    "from scipy import stats"
   ]
  },
  {
   "cell_type": "markdown",
   "metadata": {},
   "source": []
  },
  {
   "cell_type": "code",
   "execution_count": 152,
   "metadata": {},
   "outputs": [
    {
     "name": "stdout",
     "output_type": "stream",
     "text": [
      "Slice:1 Mean 1: -0.094 ±0.028 STD: 0.058 Mean 2: -0.064 ±0.029 STD: 0.112\n",
      "Slice:2 Mean 1: -0.059 ±0.010 STD: 0.021 Mean 2: -0.018 ±0.015 STD: 0.057\n",
      "Slice:3 Mean 1: -0.081 ±0.031 STD: 0.065 Mean 2: -0.027 ±0.024 STD: 0.091\n",
      "Slice:4 Mean 1: -0.010 ±0.006 STD: 0.012 Mean 2: -0.007 ±0.004 STD: 0.015\n",
      "Slice:5 Mean 1: -0.000 ±0.003 STD: 0.006 Mean 2: 0.005 ±0.002 STD: 0.008\n",
      "Slice:6 Mean 1: 0.004 ±0.002 STD: 0.005 Mean 2: 0.007 ±0.002 STD: 0.009\n",
      "Slice:7 Mean 1: -0.030 ±0.039 STD: 0.082 Mean 2: 0.103 ±0.026 STD: 0.100\n",
      "Slice:8 Mean 1: 0.022 ±0.005 STD: 0.011 Mean 2: 0.007 ±0.006 STD: 0.024\n",
      "Slice:9 Mean 1: 0.004 ±0.006 STD: 0.012 Mean 2: 0.005 ±0.004 STD: 0.015\n",
      "Slice:10 Mean 1: -0.033 ±0.026 STD: 0.055 Mean 2: -0.019 ±0.012 STD: 0.047\n",
      "Slice:11 Mean 1: -0.034 ±0.060 STD: 0.124 Mean 2: -0.100 ±0.025 STD: 0.096\n",
      "Slice:12 Mean 1: 0.012 ±0.054 STD: 0.113 Mean 2: -0.086 ±0.026 STD: 0.099\n",
      "Slice:13 Mean 1: 0.012 ±0.029 STD: 0.061 Mean 2: 0.078 ±0.014 STD: 0.054\n",
      "Slice:14 Mean 1: 0.033 ±0.007 STD: 0.014 Mean 2: 0.010 ±0.008 STD: 0.030\n",
      "Slice:15 Mean 1: 0.010 ±0.005 STD: 0.009 Mean 2: 0.004 ±0.003 STD: 0.012\n",
      "Slice:16 Mean 1: 0.039 ±0.027 STD: 0.056 Mean 2: 0.030 ±0.013 STD: 0.051\n",
      "Slice:17 Mean 1: 0.059 ±0.081 STD: 0.168 Mean 2: 0.149 ±0.033 STD: 0.126\n",
      "Slice:18 Mean 1: -0.009 ±0.045 STD: 0.094 Mean 2: 0.081 ±0.023 STD: 0.088\n",
      "Slice:19 Mean 1: 0.313 ±0.041 STD: 0.086 Mean 2: 0.024 ±0.036 STD: 0.137\n",
      "Slice:20 Mean 1: 0.090 ±0.022 STD: 0.046 Mean 2: 0.023 ±0.019 STD: 0.074\n",
      "Slice:21 Mean 1: 0.070 ±0.026 STD: 0.055 Mean 2: 0.018 ±0.017 STD: 0.066\n",
      "Slice:22 Mean 1: 0.016 ±0.010 STD: 0.021 Mean 2: 0.010 ±0.005 STD: 0.019\n",
      "Slice:23 Mean 1: 0.007 ±0.011 STD: 0.024 Mean 2: 0.023 ±0.006 STD: 0.023\n",
      "Slice:24 Mean 1: 0.008 ±0.006 STD: 0.013 Mean 2: 0.012 ±0.003 STD: 0.012\n"
     ]
    }
   ],
   "source": [
    "for slice in range(0,24):\n",
    "\n",
    "    print(\"Slice:\" + str(slice+1) + \" Mean 1: %1.3f ±%1.3f STD: %1.3f\" %mean_confidence_interval(shap_1.query('col2 == @slice')['col1'].tolist()),end = ' ')\n",
    "    print(\"Mean 2: %1.3f ±%1.3f STD: %1.3f\" %mean_confidence_interval(shap_2.query('col2 == @slice')['col1'].tolist()))"
   ]
  },
  {
   "cell_type": "code",
   "execution_count": 153,
   "metadata": {},
   "outputs": [
    {
     "name": "stdout",
     "output_type": "stream",
     "text": [
      "20\n",
      "60\n"
     ]
    }
   ],
   "source": [
    "print(len(shap_1.query('col2 == 0')['col1'].tolist()))\n",
    "print(len(shap_2.query('col2 == 0')['col1'].tolist()))"
   ]
  },
  {
   "cell_type": "code",
   "execution_count": 154,
   "metadata": {},
   "outputs": [
    {
     "name": "stdout",
     "output_type": "stream",
     "text": [
      "0.3897924007875878\n",
      "0.07522337850115217\n",
      "0.0870 & 0.2072\n"
     ]
    }
   ],
   "source": [
    "\n",
    "a = shap_1.query('col2 == 6')['col1'].tolist()\n",
    "b = shap_1.query('col2 == 12')['col1'].tolist()\n",
    "\n",
    "res = stats.normaltest(a)\n",
    "print(res.statistic)\n",
    "res2 = stats.normaltest(b)\n",
    "print(res2.statistic)\n",
    "\n",
    "stat, p = stats.bartlett(a, b)\n",
    "print(\"%1.4f &\" %stats.ttest_ind(a, b, alternative= 'two-sided', equal_var=False).pvalue,end = ' ')\n",
    "print(\"%1.4f\" %p)"
   ]
  },
  {
   "cell_type": "code",
   "execution_count": 150,
   "metadata": {},
   "outputs": [
    {
     "name": "stdout",
     "output_type": "stream",
     "text": [
      "1\n",
      "19.2539858362849\n",
      "3.2783871689735786\n",
      "0.1050 & 0.2170\n",
      "2\n",
      "2.189783958052478\n",
      "5.607798697276085\n",
      "0.2276 & 0.7842\n",
      "3\n",
      "0.1407837474543951\n",
      "3.523449828555992\n",
      "0.9986 & 0.0120\n",
      "4\n",
      "5.837469354383811\n",
      "5.9547492873066545\n",
      "0.0001 & 0.9398\n",
      "5\n",
      "9.001225721360647\n",
      "7.451716376341326\n",
      "0.5017 & 0.1085\n",
      "6\n",
      "5.243920235307184\n",
      "17.8782811154161\n",
      "0.2488 & 0.0063\n",
      "7\n",
      "5.126792242360937\n",
      "0.8515470482135146\n",
      "0.0826 & 0.3229\n",
      "8\n",
      "5.277489312814924\n",
      "7.799073343602335\n",
      "0.5956 & 0.3568\n",
      "9\n",
      "1.3797111150231056\n",
      "0.2075901799888234\n",
      "0.0906 & 0.0038\n",
      "10\n",
      "3.8978932216230504\n",
      "0.04104745798219596\n",
      "0.0020 & 0.3008\n",
      "11\n",
      "0.9534320141938772\n",
      "3.705769376187458\n",
      "0.5386 & 0.0072\n",
      "12\n",
      "4.875168432715368\n",
      "2.383469573714815\n",
      "0.7778 & 0.4417\n",
      "13\n",
      "3.9360769028529616\n",
      "0.810605323144927\n",
      "0.0351 & 0.2440\n",
      "14\n",
      "3.4697946552620955\n",
      "11.72039700494617\n",
      "0.1593 & 0.7165\n",
      "15\n",
      "0.47686070651667006\n",
      "7.965087765313401\n",
      "0.9059 & 0.4435\n",
      "16\n",
      "4.345140734015554\n",
      "0.635808988072889\n",
      "0.0015 & 0.3921\n",
      "17\n",
      "1.7126062094148173\n",
      "10.9760125830128\n",
      "0.5136 & 0.0018\n",
      "18\n",
      "6.259485150376147\n",
      "9.871908087137673\n",
      "0.5316 & 0.1362\n",
      "19\n",
      "8.666092136741241\n",
      "2.8112245791432127\n",
      "0.5476 & 0.8484\n",
      "20\n",
      "2.478649295108336\n",
      "0.03305128886824819\n",
      "0.0657 & 0.5628\n",
      "21\n",
      "3.447138398883322\n",
      "1.1753400716122373\n",
      "0.3838 & 0.1108\n",
      "22\n",
      "18.423440098741526\n",
      "2.2082681193057816\n",
      "0.0069 & 0.3682\n",
      "23\n",
      "0.8810671433458438\n",
      "10.822501996306428\n",
      "0.9311 & 0.0001\n",
      "24\n",
      "2.694401905765864\n",
      "18.36990387561771\n",
      "0.9464 & 0.4082\n"
     ]
    }
   ],
   "source": [
    "for i in range(0, 24):\n",
    "    print(i+1)\n",
    "    a = shap_1.query('col2 == @i')['col1'].tolist()\n",
    "    b = shap_2.query('col2 == @i')['col1'].tolist()\n",
    "    \n",
    "    res = stats.normaltest(a)\n",
    "    print(res.statistic)\n",
    "    res2 = stats.normaltest(b)\n",
    "    print(res2.statistic)\n",
    "\n",
    "    stat, p = stats.bartlett(a, b)\n",
    "    print(\"%1.4f &\" %stats.ttest_ind(a, b, alternative= 'two-sided', equal_var=False).pvalue,end = ' ')\n",
    "    print(\"%1.4f\" %p)"
   ]
  }
 ],
 "metadata": {
  "kernelspec": {
   "display_name": "base",
   "language": "python",
   "name": "python3"
  },
  "language_info": {
   "codemirror_mode": {
    "name": "ipython",
    "version": 3
   },
   "file_extension": ".py",
   "mimetype": "text/x-python",
   "name": "python",
   "nbconvert_exporter": "python",
   "pygments_lexer": "ipython3",
   "version": "3.12.7"
  }
 },
 "nbformat": 4,
 "nbformat_minor": 2
}
