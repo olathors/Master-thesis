{
 "cells": [
  {
   "cell_type": "code",
   "execution_count": 19,
   "metadata": {},
   "outputs": [],
   "source": [
    "import os\n",
    "import zipfile\n",
    "import pandas as pd\n",
    "import shutil\n",
    "from distutils.dir_util import copy_tree"
   ]
  },
  {
   "cell_type": "code",
   "execution_count": 20,
   "metadata": {},
   "outputs": [],
   "source": [
    "in_path = '/Users/olath/Documents/ADNI_SLICED_RESCALED'\n",
    "\n",
    "out_path = '/Users/olath/Documents/ADNI_SLICED_RESCALED_CORONAL43'\n",
    "\n",
    "in_data = '/Users/olath/Documents/GitHub/Master-thesis/Data_Experimentation/data/all_images.csv'"
   ]
  },
  {
   "cell_type": "code",
   "execution_count": 15,
   "metadata": {},
   "outputs": [],
   "source": [
    "os.chdir(in_path)\n",
    "extension = \".zip\"\n",
    "\n",
    "for item in os.listdir(in_path): # loop through items in dir\n",
    "    if item.endswith(extension): # check for \".zip\" extension\n",
    "        file_name = os.path.abspath(item) # get full path of files\n",
    "        zip_ref = zipfile.ZipFile(file_name) # create zipfile object\n",
    "        zip_ref.extractall(out_path+'/'+str(item[:-4])) # extract file to dir\n",
    "        zip_ref.close() # close file\n",
    "        "
   ]
  },
  {
   "cell_type": "code",
   "execution_count": 21,
   "metadata": {},
   "outputs": [
    {
     "name": "stdout",
     "output_type": "stream",
     "text": [
      "13856\n"
     ]
    }
   ],
   "source": [
    "os.chdir(in_path)\n",
    "images = pd.read_csv(in_data)\n",
    "counter = 0\n",
    "\n",
    "for image in range(0, len(images)):\n",
    "\n",
    "    sample = images.iloc[image]\n",
    "\n",
    "    for item in os.listdir(in_path):\n",
    "\n",
    "        if str(item) == str(sample['IMAGE_ID']):\n",
    "\n",
    "            src = os.path.abspath(item)\n",
    "            if not os.path.exists(out_path+'/'+str(item)+'/coronal/'):\n",
    "                os.makedirs(out_path+'/'+str(item)+'/coronal/')\n",
    "            shutil.copyfile(src+'/coronal/43.png', out_path+'/'+str(item)+'/coronal/43.png')\n",
    "            counter += 1\n",
    "\n",
    "print(counter)\n"
   ]
  }
 ],
 "metadata": {
  "kernelspec": {
   "display_name": "thesis",
   "language": "python",
   "name": "python3"
  },
  "language_info": {
   "codemirror_mode": {
    "name": "ipython",
    "version": 3
   },
   "file_extension": ".py",
   "mimetype": "text/x-python",
   "name": "python",
   "nbconvert_exporter": "python",
   "pygments_lexer": "ipython3",
   "version": "3.11.10"
  }
 },
 "nbformat": 4,
 "nbformat_minor": 2
}
