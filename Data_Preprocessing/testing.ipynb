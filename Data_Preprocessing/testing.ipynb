{
 "cells": [
  {
   "cell_type": "code",
   "execution_count": 1,
   "metadata": {},
   "outputs": [],
   "source": [
    "from mri_preprocess import preprocess_image\n",
    "import ants\n",
    "import csv\n",
    "import pandas as pd\n",
    "import numpy as np\n",
    "import time"
   ]
  },
  {
   "cell_type": "code",
   "execution_count": 2,
   "metadata": {},
   "outputs": [],
   "source": [
    "data = np.load(\"/Users/olath/Documents/GitHub/Master-thesis/Data_Experimentation/images_with_paths.npy\",allow_pickle='TRUE').item()\n"
   ]
  },
  {
   "cell_type": "code",
   "execution_count": 3,
   "metadata": {},
   "outputs": [
    {
     "name": "stdout",
     "output_type": "stream",
     "text": [
      "Processed image nr:  1  -  10454361  in  12.000333070755005  seconds.\n",
      "Processed image nr:  2  -  10229744  in  12.382009983062744  seconds.\n",
      "Processed image nr:  3  -  10461427  in  11.808966875076294  seconds.\n",
      "Processed image nr:  4  -  10461508  in  9.143911123275757  seconds.\n",
      "Processed image nr:  5  -  10654619  in  12.38408613204956  seconds.\n",
      "Processed image nr:  6  -  10889397  in  12.081571102142334  seconds.\n",
      "Processed image nr:  7  -  10883255  in  11.877713918685913  seconds.\n",
      "Processed image nr:  8  -  10263879  in  11.148784160614014  seconds.\n",
      "Processed image nr:  9  -  10955636  in  12.455139875411987  seconds.\n",
      "Processed image nr:  10  -  10955637  in  12.35792589187622  seconds.\n"
     ]
    }
   ],
   "source": [
    "atlas_image = ants.image_read('//Users/olath/Downloads/mni_icbm152_nlin_sym_09a_nifti/mni_icbm152_nlin_sym_09a/mni_icbm152_t1_tal_nlin_sym_09a.nii')\n",
    "counter = 0\n",
    "\n",
    "for key in data:\n",
    "    start = time.time()\n",
    "    preprocess_image(data[key], '/Users/olath/Documents/GitHub/Master-thesis/Data_Preprocessing/test_data/', 'I'+str(key), atlas_image)\n",
    "    counter +=1\n",
    "    total_time = (time.time() - start)\n",
    "    print ('Processed image nr: ',counter,\" - \",key, \" in \",total_time,\" seconds.\")\n",
    "\n",
    "    if counter == 10:\n",
    "        break"
   ]
  },
  {
   "cell_type": "code",
   "execution_count": null,
   "metadata": {},
   "outputs": [],
   "source": []
  }
 ],
 "metadata": {
  "kernelspec": {
   "display_name": "thesis",
   "language": "python",
   "name": "python3"
  },
  "language_info": {
   "codemirror_mode": {
    "name": "ipython",
    "version": 3
   },
   "file_extension": ".py",
   "mimetype": "text/x-python",
   "name": "python",
   "nbconvert_exporter": "python",
   "pygments_lexer": "ipython3",
   "version": "3.11.10"
  }
 },
 "nbformat": 4,
 "nbformat_minor": 2
}
