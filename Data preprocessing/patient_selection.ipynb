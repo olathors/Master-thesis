{
 "cells": [
  {
   "cell_type": "code",
   "execution_count": 51,
   "metadata": {},
   "outputs": [],
   "source": [
    "import os\n",
    "import pandas as pd\n",
    "import numpy as np"
   ]
  },
  {
   "cell_type": "code",
   "execution_count": 69,
   "metadata": {},
   "outputs": [
    {
     "data": {
      "text/html": [
       "<div>\n",
       "<style scoped>\n",
       "    .dataframe tbody tr th:only-of-type {\n",
       "        vertical-align: middle;\n",
       "    }\n",
       "\n",
       "    .dataframe tbody tr th {\n",
       "        vertical-align: top;\n",
       "    }\n",
       "\n",
       "    .dataframe thead th {\n",
       "        text-align: right;\n",
       "    }\n",
       "</style>\n",
       "<table border=\"1\" class=\"dataframe\">\n",
       "  <thead>\n",
       "    <tr style=\"text-align: right;\">\n",
       "      <th></th>\n",
       "      <th>PHASE</th>\n",
       "      <th>PTID</th>\n",
       "      <th>RID</th>\n",
       "      <th>VISCODE</th>\n",
       "      <th>VISCODE2</th>\n",
       "      <th>EXAMDATE</th>\n",
       "      <th>DIAGNOSIS</th>\n",
       "      <th>DXNORM</th>\n",
       "      <th>DXNODEP</th>\n",
       "      <th>DXMCI</th>\n",
       "      <th>...</th>\n",
       "      <th>DXODES</th>\n",
       "      <th>DXCONFID</th>\n",
       "      <th>ID</th>\n",
       "      <th>SITEID</th>\n",
       "      <th>USERDATE</th>\n",
       "      <th>USERDATE2</th>\n",
       "      <th>DD_CRF_VERSION_LABEL</th>\n",
       "      <th>LANGUAGE_CODE</th>\n",
       "      <th>HAS_QC_ERROR</th>\n",
       "      <th>update_stamp</th>\n",
       "    </tr>\n",
       "  </thead>\n",
       "  <tbody>\n",
       "    <tr>\n",
       "      <th>0</th>\n",
       "      <td>ADNI1</td>\n",
       "      <td>011_S_0002</td>\n",
       "      <td>2</td>\n",
       "      <td>bl</td>\n",
       "      <td>bl</td>\n",
       "      <td>2005-09-29</td>\n",
       "      <td>1.0</td>\n",
       "      <td>1.0</td>\n",
       "      <td>-4.0</td>\n",
       "      <td>-4.0</td>\n",
       "      <td>...</td>\n",
       "      <td>-4.0</td>\n",
       "      <td>4.0</td>\n",
       "      <td>2</td>\n",
       "      <td>107</td>\n",
       "      <td>2005-10-01</td>\n",
       "      <td>NaN</td>\n",
       "      <td>NaN</td>\n",
       "      <td>NaN</td>\n",
       "      <td>NaN</td>\n",
       "      <td>2005-10-01 00:00:00.0</td>\n",
       "    </tr>\n",
       "    <tr>\n",
       "      <th>1</th>\n",
       "      <td>ADNI1</td>\n",
       "      <td>011_S_0003</td>\n",
       "      <td>3</td>\n",
       "      <td>bl</td>\n",
       "      <td>bl</td>\n",
       "      <td>2005-09-30</td>\n",
       "      <td>3.0</td>\n",
       "      <td>-4.0</td>\n",
       "      <td>-4.0</td>\n",
       "      <td>-4.0</td>\n",
       "      <td>...</td>\n",
       "      <td>-4.0</td>\n",
       "      <td>3.0</td>\n",
       "      <td>4</td>\n",
       "      <td>107</td>\n",
       "      <td>2005-10-01</td>\n",
       "      <td>NaN</td>\n",
       "      <td>NaN</td>\n",
       "      <td>NaN</td>\n",
       "      <td>NaN</td>\n",
       "      <td>2005-10-01 00:00:00.0</td>\n",
       "    </tr>\n",
       "    <tr>\n",
       "      <th>2</th>\n",
       "      <td>ADNI1</td>\n",
       "      <td>011_S_0005</td>\n",
       "      <td>5</td>\n",
       "      <td>bl</td>\n",
       "      <td>bl</td>\n",
       "      <td>2005-09-30</td>\n",
       "      <td>1.0</td>\n",
       "      <td>1.0</td>\n",
       "      <td>-4.0</td>\n",
       "      <td>-4.0</td>\n",
       "      <td>...</td>\n",
       "      <td>-4.0</td>\n",
       "      <td>4.0</td>\n",
       "      <td>6</td>\n",
       "      <td>107</td>\n",
       "      <td>2005-10-01</td>\n",
       "      <td>NaN</td>\n",
       "      <td>NaN</td>\n",
       "      <td>NaN</td>\n",
       "      <td>NaN</td>\n",
       "      <td>2005-10-01 00:00:00.0</td>\n",
       "    </tr>\n",
       "    <tr>\n",
       "      <th>3</th>\n",
       "      <td>ADNI1</td>\n",
       "      <td>011_S_0008</td>\n",
       "      <td>8</td>\n",
       "      <td>bl</td>\n",
       "      <td>bl</td>\n",
       "      <td>2005-09-30</td>\n",
       "      <td>1.0</td>\n",
       "      <td>1.0</td>\n",
       "      <td>-4.0</td>\n",
       "      <td>-4.0</td>\n",
       "      <td>...</td>\n",
       "      <td>-4.0</td>\n",
       "      <td>3.0</td>\n",
       "      <td>8</td>\n",
       "      <td>107</td>\n",
       "      <td>2005-10-01</td>\n",
       "      <td>NaN</td>\n",
       "      <td>NaN</td>\n",
       "      <td>NaN</td>\n",
       "      <td>NaN</td>\n",
       "      <td>2005-10-01 00:00:00.0</td>\n",
       "    </tr>\n",
       "    <tr>\n",
       "      <th>4</th>\n",
       "      <td>ADNI1</td>\n",
       "      <td>022_S_0007</td>\n",
       "      <td>7</td>\n",
       "      <td>bl</td>\n",
       "      <td>bl</td>\n",
       "      <td>2005-10-06</td>\n",
       "      <td>3.0</td>\n",
       "      <td>-4.0</td>\n",
       "      <td>-4.0</td>\n",
       "      <td>-4.0</td>\n",
       "      <td>...</td>\n",
       "      <td>-4.0</td>\n",
       "      <td>4.0</td>\n",
       "      <td>10</td>\n",
       "      <td>10</td>\n",
       "      <td>2005-10-06</td>\n",
       "      <td>NaN</td>\n",
       "      <td>NaN</td>\n",
       "      <td>NaN</td>\n",
       "      <td>NaN</td>\n",
       "      <td>2005-10-06 00:00:00.0</td>\n",
       "    </tr>\n",
       "    <tr>\n",
       "      <th>5</th>\n",
       "      <td>ADNI1</td>\n",
       "      <td>100_S_0015</td>\n",
       "      <td>15</td>\n",
       "      <td>bl</td>\n",
       "      <td>bl</td>\n",
       "      <td>2005-10-18</td>\n",
       "      <td>1.0</td>\n",
       "      <td>1.0</td>\n",
       "      <td>-4.0</td>\n",
       "      <td>-4.0</td>\n",
       "      <td>...</td>\n",
       "      <td>-4.0</td>\n",
       "      <td>4.0</td>\n",
       "      <td>12</td>\n",
       "      <td>4</td>\n",
       "      <td>2005-10-18</td>\n",
       "      <td>NaN</td>\n",
       "      <td>NaN</td>\n",
       "      <td>NaN</td>\n",
       "      <td>NaN</td>\n",
       "      <td>2005-10-18 00:00:00.0</td>\n",
       "    </tr>\n",
       "    <tr>\n",
       "      <th>6</th>\n",
       "      <td>ADNI1</td>\n",
       "      <td>023_S_0030</td>\n",
       "      <td>30</td>\n",
       "      <td>bl</td>\n",
       "      <td>bl</td>\n",
       "      <td>2005-10-20</td>\n",
       "      <td>2.0</td>\n",
       "      <td>-4.0</td>\n",
       "      <td>-4.0</td>\n",
       "      <td>1.0</td>\n",
       "      <td>...</td>\n",
       "      <td>-4.0</td>\n",
       "      <td>4.0</td>\n",
       "      <td>14</td>\n",
       "      <td>11</td>\n",
       "      <td>2005-10-20</td>\n",
       "      <td>NaN</td>\n",
       "      <td>NaN</td>\n",
       "      <td>NaN</td>\n",
       "      <td>NaN</td>\n",
       "      <td>2005-10-20 00:00:00.0</td>\n",
       "    </tr>\n",
       "    <tr>\n",
       "      <th>7</th>\n",
       "      <td>ADNI1</td>\n",
       "      <td>023_S_0031</td>\n",
       "      <td>31</td>\n",
       "      <td>bl</td>\n",
       "      <td>bl</td>\n",
       "      <td>2005-10-24</td>\n",
       "      <td>1.0</td>\n",
       "      <td>1.0</td>\n",
       "      <td>-4.0</td>\n",
       "      <td>-4.0</td>\n",
       "      <td>...</td>\n",
       "      <td>-4.0</td>\n",
       "      <td>4.0</td>\n",
       "      <td>16</td>\n",
       "      <td>11</td>\n",
       "      <td>2005-10-24</td>\n",
       "      <td>NaN</td>\n",
       "      <td>NaN</td>\n",
       "      <td>NaN</td>\n",
       "      <td>NaN</td>\n",
       "      <td>2005-10-24 00:00:00.0</td>\n",
       "    </tr>\n",
       "    <tr>\n",
       "      <th>8</th>\n",
       "      <td>ADNI1</td>\n",
       "      <td>011_S_0016</td>\n",
       "      <td>16</td>\n",
       "      <td>bl</td>\n",
       "      <td>bl</td>\n",
       "      <td>2005-10-25</td>\n",
       "      <td>1.0</td>\n",
       "      <td>1.0</td>\n",
       "      <td>-4.0</td>\n",
       "      <td>-4.0</td>\n",
       "      <td>...</td>\n",
       "      <td>-4.0</td>\n",
       "      <td>3.0</td>\n",
       "      <td>18</td>\n",
       "      <td>107</td>\n",
       "      <td>2005-11-02</td>\n",
       "      <td>NaN</td>\n",
       "      <td>NaN</td>\n",
       "      <td>NaN</td>\n",
       "      <td>NaN</td>\n",
       "      <td>2005-11-02 00:00:00.0</td>\n",
       "    </tr>\n",
       "    <tr>\n",
       "      <th>9</th>\n",
       "      <td>ADNI1</td>\n",
       "      <td>011_S_0021</td>\n",
       "      <td>21</td>\n",
       "      <td>bl</td>\n",
       "      <td>bl</td>\n",
       "      <td>2005-11-01</td>\n",
       "      <td>1.0</td>\n",
       "      <td>1.0</td>\n",
       "      <td>-4.0</td>\n",
       "      <td>-4.0</td>\n",
       "      <td>...</td>\n",
       "      <td>-4.0</td>\n",
       "      <td>4.0</td>\n",
       "      <td>20</td>\n",
       "      <td>107</td>\n",
       "      <td>2005-11-02</td>\n",
       "      <td>NaN</td>\n",
       "      <td>NaN</td>\n",
       "      <td>NaN</td>\n",
       "      <td>NaN</td>\n",
       "      <td>2005-11-02 00:00:00.0</td>\n",
       "    </tr>\n",
       "  </tbody>\n",
       "</table>\n",
       "<p>10 rows × 41 columns</p>\n",
       "</div>"
      ],
      "text/plain": [
       "   PHASE        PTID  RID VISCODE VISCODE2    EXAMDATE  DIAGNOSIS  DXNORM  \\\n",
       "0  ADNI1  011_S_0002    2      bl       bl  2005-09-29        1.0     1.0   \n",
       "1  ADNI1  011_S_0003    3      bl       bl  2005-09-30        3.0    -4.0   \n",
       "2  ADNI1  011_S_0005    5      bl       bl  2005-09-30        1.0     1.0   \n",
       "3  ADNI1  011_S_0008    8      bl       bl  2005-09-30        1.0     1.0   \n",
       "4  ADNI1  022_S_0007    7      bl       bl  2005-10-06        3.0    -4.0   \n",
       "5  ADNI1  100_S_0015   15      bl       bl  2005-10-18        1.0     1.0   \n",
       "6  ADNI1  023_S_0030   30      bl       bl  2005-10-20        2.0    -4.0   \n",
       "7  ADNI1  023_S_0031   31      bl       bl  2005-10-24        1.0     1.0   \n",
       "8  ADNI1  011_S_0016   16      bl       bl  2005-10-25        1.0     1.0   \n",
       "9  ADNI1  011_S_0021   21      bl       bl  2005-11-01        1.0     1.0   \n",
       "\n",
       "   DXNODEP  DXMCI  ... DXODES  DXCONFID  ID  SITEID    USERDATE  USERDATE2  \\\n",
       "0     -4.0   -4.0  ...   -4.0       4.0   2     107  2005-10-01        NaN   \n",
       "1     -4.0   -4.0  ...   -4.0       3.0   4     107  2005-10-01        NaN   \n",
       "2     -4.0   -4.0  ...   -4.0       4.0   6     107  2005-10-01        NaN   \n",
       "3     -4.0   -4.0  ...   -4.0       3.0   8     107  2005-10-01        NaN   \n",
       "4     -4.0   -4.0  ...   -4.0       4.0  10      10  2005-10-06        NaN   \n",
       "5     -4.0   -4.0  ...   -4.0       4.0  12       4  2005-10-18        NaN   \n",
       "6     -4.0    1.0  ...   -4.0       4.0  14      11  2005-10-20        NaN   \n",
       "7     -4.0   -4.0  ...   -4.0       4.0  16      11  2005-10-24        NaN   \n",
       "8     -4.0   -4.0  ...   -4.0       3.0  18     107  2005-11-02        NaN   \n",
       "9     -4.0   -4.0  ...   -4.0       4.0  20     107  2005-11-02        NaN   \n",
       "\n",
       "   DD_CRF_VERSION_LABEL  LANGUAGE_CODE HAS_QC_ERROR           update_stamp  \n",
       "0                   NaN            NaN          NaN  2005-10-01 00:00:00.0  \n",
       "1                   NaN            NaN          NaN  2005-10-01 00:00:00.0  \n",
       "2                   NaN            NaN          NaN  2005-10-01 00:00:00.0  \n",
       "3                   NaN            NaN          NaN  2005-10-01 00:00:00.0  \n",
       "4                   NaN            NaN          NaN  2005-10-06 00:00:00.0  \n",
       "5                   NaN            NaN          NaN  2005-10-18 00:00:00.0  \n",
       "6                   NaN            NaN          NaN  2005-10-20 00:00:00.0  \n",
       "7                   NaN            NaN          NaN  2005-10-24 00:00:00.0  \n",
       "8                   NaN            NaN          NaN  2005-11-02 00:00:00.0  \n",
       "9                   NaN            NaN          NaN  2005-11-02 00:00:00.0  \n",
       "\n",
       "[10 rows x 41 columns]"
      ]
     },
     "execution_count": 69,
     "metadata": {},
     "output_type": "execute_result"
    }
   ],
   "source": [
    "DXSUM = pd.read_csv(\"data/All_Subjects_DXSUM_24Oct2024.csv\")\n",
    "DXSUM[0:10]"
   ]
  },
  {
   "cell_type": "markdown",
   "metadata": {},
   "source": [
    "**Amount of patients**"
   ]
  },
  {
   "cell_type": "code",
   "execution_count": 53,
   "metadata": {},
   "outputs": [
    {
     "data": {
      "text/plain": [
       "(3220,)"
      ]
     },
     "execution_count": 53,
     "metadata": {},
     "output_type": "execute_result"
    }
   ],
   "source": [
    "DXSUM['PTID'].unique().shape"
   ]
  },
  {
   "cell_type": "markdown",
   "metadata": {},
   "source": [
    "**Creating a dictionary where the keys are patient IDs, and the values are relevant information abaout visits.**"
   ]
  },
  {
   "cell_type": "code",
   "execution_count": 54,
   "metadata": {},
   "outputs": [],
   "source": [
    "patient_dict = {}\n",
    "\n",
    "for index, row in DXSUM.iterrows():\n",
    "    #print(index)\n",
    "    #print(row['PTID'])\n",
    "    if row['PTID'] in patient_dict:\n",
    "        patient_dict[row['PTID']].append([row['VISCODE2'], row['EXAMDATE'], row['DIAGNOSIS']])\n",
    "    else:\n",
    "        patient_dict[row['PTID']] = [[row['VISCODE2'], row['EXAMDATE'], row['DIAGNOSIS']]]\n",
    "\n",
    "np.save(\"data/patient_dict.npy\", patient_dict) "
   ]
  },
  {
   "cell_type": "code",
   "execution_count": 64,
   "metadata": {},
   "outputs": [
    {
     "data": {
      "text/plain": [
       "[['bl', '2005-09-29', 1.0],\n",
       " ['m06', '2006-03-06', 1.0],\n",
       " ['m36', '2008-08-27', 1.0],\n",
       " ['m60', '2010-09-27', 1.0],\n",
       " ['m72', '2011-09-19', 1.0],\n",
       " ['m84', '2012-10-04', 2.0],\n",
       " ['m96', '2013-09-23', 1.0],\n",
       " ['m120', '2015-10-20', 1.0],\n",
       " ['m132', '2016-10-03', 2.0],\n",
       " ['m144', '2017-11-01', 2.0]]"
      ]
     },
     "execution_count": 64,
     "metadata": {},
     "output_type": "execute_result"
    }
   ],
   "source": [
    "patient_dict['011_S_0002']"
   ]
  },
  {
   "cell_type": "markdown",
   "metadata": {},
   "source": [
    "**Creating a dictionary of patients who only ever got CN diagnosis.**\n",
    "\n",
    "Iterates through every visit of every patient, adding the patient to the cn dictionary only if they exclusively have CN diagnoses in their records. The dictionary also contains all the visits, wich are all relevant for the dataset."
   ]
  },
  {
   "cell_type": "code",
   "execution_count": 56,
   "metadata": {},
   "outputs": [],
   "source": [
    "cn_dict = {}\n",
    "\n",
    "for patient_id in patient_dict:\n",
    "    always_cn = True\n",
    "    visits = patient_dict[patient_id]\n",
    "\n",
    "    for i in range(0, len(visits)):\n",
    "\n",
    "        if visits[i][2] != 1.0:\n",
    "            always_cn = False\n",
    "\n",
    "    if always_cn:\n",
    "        cn_dict[patient_id] = visits\n",
    "\n",
    "np.save(\"data/cn_dict.npy\", cn_dict) "
   ]
  },
  {
   "cell_type": "code",
   "execution_count": 65,
   "metadata": {},
   "outputs": [
    {
     "name": "stdout",
     "output_type": "stream",
     "text": [
      "Number of patients: 1118\n"
     ]
    },
    {
     "data": {
      "text/plain": [
       "[['bl', '2005-09-30', 1.0],\n",
       " ['m06', '2006-03-09', 1.0],\n",
       " ['m12', '2006-09-06', 1.0],\n",
       " ['m24', '2007-09-07', 1.0],\n",
       " ['m36', '2008-09-10', 1.0]]"
      ]
     },
     "execution_count": 65,
     "metadata": {},
     "output_type": "execute_result"
    }
   ],
   "source": [
    "print('Number of patients:', len(cn_dict))\n",
    "cn_dict['011_S_0005']"
   ]
  },
  {
   "cell_type": "markdown",
   "metadata": {},
   "source": [
    "**Creating a dictionary of patients who only ever got AD diagnosis.**\n",
    "\n",
    "Iterates through every visit of every patient, adding the patient to the cn dictionary only if they exclusively have AD diagnoses in their records. The dictionary also contains all the visits, wich are all relevant for the dataset."
   ]
  },
  {
   "cell_type": "code",
   "execution_count": 58,
   "metadata": {},
   "outputs": [],
   "source": [
    "ad_dict = {}\n",
    "\n",
    "for patient_id in patient_dict:\n",
    "    always_ad = True\n",
    "    visits = patient_dict[patient_id]\n",
    "\n",
    "    for i in range(0, len(visits)):\n",
    "\n",
    "        if visits[i][2] != 3.0:\n",
    "            always_ad = False\n",
    "\n",
    "    if always_ad:\n",
    "        ad_dict[patient_id] = visits\n",
    "\n",
    "np.save(\"data/ad_dict.npy\", ad_dict) "
   ]
  },
  {
   "cell_type": "code",
   "execution_count": 66,
   "metadata": {},
   "outputs": [
    {
     "name": "stdout",
     "output_type": "stream",
     "text": [
      "Number of patients: 510\n"
     ]
    },
    {
     "data": {
      "text/plain": [
       "[['bl', '2005-09-30', 3.0],\n",
       " ['m06', '2006-03-13', 3.0],\n",
       " ['m12', '2006-09-13', 3.0],\n",
       " ['m24', '2007-09-12', 3.0]]"
      ]
     },
     "execution_count": 66,
     "metadata": {},
     "output_type": "execute_result"
    }
   ],
   "source": [
    "print('Number of patients:', len(ad_dict))\n",
    "ad_dict['011_S_0003']"
   ]
  },
  {
   "cell_type": "markdown",
   "metadata": {},
   "source": [
    "**Creating a dictionary for patients with sMCI diagnosis**\n",
    "\n",
    "Iterates through every visit of every patient, adding the patient to the sMCI dictionary if they have hava an unbroken streak of 5 visits with MCI diagnosis including the last recordedd visit. The dictionary only contains visits with MCI diagnosis."
   ]
  },
  {
   "cell_type": "code",
   "execution_count": 60,
   "metadata": {},
   "outputs": [],
   "source": [
    "smci_dict = {}\n",
    "\n",
    "for patient_id in patient_dict:\n",
    "    always_mci = True\n",
    "    relevant_visits = list()\n",
    "    mci_count = 0\n",
    "    visits = patient_dict[patient_id]\n",
    "\n",
    "    for i in range(0, len(visits)):\n",
    "\n",
    "        if visits[i][2] == 1.0:\n",
    "            mci_count = 0\n",
    "            relevant_visits.clear()\n",
    "\n",
    "        elif visits[i][2] == 2.0:\n",
    "            relevant_visits.append(visits[i])\n",
    "            mci_count += 1\n",
    "        \n",
    "        elif visits[i][2] == 3.0:\n",
    "            always_mci = False\n",
    "            relevant_visits.clear()\n",
    "\n",
    "    if always_mci and mci_count >= 5:\n",
    "        smci_dict[patient_id] = relevant_visits\n",
    "\n",
    "np.save(\"data/smci_dict.npy\", smci_dict) "
   ]
  },
  {
   "cell_type": "code",
   "execution_count": 67,
   "metadata": {},
   "outputs": [
    {
     "name": "stdout",
     "output_type": "stream",
     "text": [
      "Number of patients: 356\n",
      "Number of relevant visits: 2575\n"
     ]
    },
    {
     "data": {
      "text/plain": [
       "[['bl', '2005-11-08', 2.0],\n",
       " ['m06', '2006-05-02', 2.0],\n",
       " ['m12', '2006-11-14', 2.0],\n",
       " ['m18', '2007-05-14', 2.0],\n",
       " ['m36', '2008-11-18', 2.0]]"
      ]
     },
     "execution_count": 67,
     "metadata": {},
     "output_type": "execute_result"
    }
   ],
   "source": [
    "print('Number of patients:', len(smci_dict))\n",
    "\n",
    "num_relevant_visits = 0\n",
    "\n",
    "for key in smci_dict:\n",
    "   num_relevant_visits += len(smci_dict[key]) \n",
    "    \n",
    "print('Number of relevant visits:', num_relevant_visits) \n",
    "smci_dict['022_S_0004']"
   ]
  },
  {
   "cell_type": "markdown",
   "metadata": {},
   "source": [
    "**Creating a dictionary for patients with pMCI diagnosis**\n",
    "\n",
    "Iterates through every visit of every patient, adding the patient to the pMCI dictionary if they convert to AD within 36 months of being diagnosed with MCI, without regressing back to CN. The dictionary only contains visits with MCI diagnosis."
   ]
  },
  {
   "cell_type": "code",
   "execution_count": 62,
   "metadata": {},
   "outputs": [],
   "source": [
    "pmci_dict = {}\n",
    "\n",
    "for patient_id in patient_dict:\n",
    "    ad_detected = False\n",
    "    mci_count = 0\n",
    "    relevant_visits = list()\n",
    "    visits = patient_dict[patient_id]\n",
    "\n",
    "    for i in range(0, len(visits)):\n",
    "\n",
    "        if visits[i][2] == 1.0:\n",
    "            mci_count = 0\n",
    "            relevant_visits.clear()\n",
    "\n",
    "        elif visits[i][2] == 2.0:\n",
    "            mci_count += 1\n",
    "            relevant_visits.append(visits[i])\n",
    "\n",
    "        elif visits[i][2] == 3.0:\n",
    "            ad_detected = True\n",
    "            break\n",
    "\n",
    "    if  ad_detected and (1 <= mci_count <= 6):\n",
    "        pmci_dict[patient_id] = relevant_visits\n",
    "\n",
    "np.save(\"data/pmci_dict.npy\", pmci_dict) "
   ]
  },
  {
   "cell_type": "code",
   "execution_count": 68,
   "metadata": {},
   "outputs": [
    {
     "name": "stdout",
     "output_type": "stream",
     "text": [
      "Number of patients: 385\n",
      "Number of relevant visits: 1267\n"
     ]
    },
    {
     "data": {
      "text/plain": [
       "[['bl', '2005-12-29', 2.0],\n",
       " ['m06', '2006-09-01', 2.0],\n",
       " ['m12', '2007-02-01', 2.0],\n",
       " ['m18', '2007-07-09', 2.0],\n",
       " ['m24', '2007-12-13', 2.0],\n",
       " ['m36', '2008-12-12', 2.0]]"
      ]
     },
     "execution_count": 68,
     "metadata": {},
     "output_type": "execute_result"
    }
   ],
   "source": [
    "print('Number of patients:', len(pmci_dict))\n",
    "\n",
    "num_relevant_visits = 0\n",
    "\n",
    "for key in pmci_dict:\n",
    "   num_relevant_visits += len(pmci_dict[key]) \n",
    "    \n",
    "print('Number of relevant visits:', num_relevant_visits)  \n",
    "pmci_dict['099_S_0051']"
   ]
  }
 ],
 "metadata": {
  "kernelspec": {
   "display_name": "Python 3",
   "language": "python",
   "name": "python3"
  },
  "language_info": {
   "codemirror_mode": {
    "name": "ipython",
    "version": 3
   },
   "file_extension": ".py",
   "mimetype": "text/x-python",
   "name": "python",
   "nbconvert_exporter": "python",
   "pygments_lexer": "ipython3",
   "version": "3.13.0"
  }
 },
 "nbformat": 4,
 "nbformat_minor": 2
}
