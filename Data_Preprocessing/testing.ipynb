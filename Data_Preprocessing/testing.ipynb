{
 "cells": [
  {
   "cell_type": "code",
   "execution_count": 2,
   "metadata": {},
   "outputs": [],
   "source": [
    "from mri_preprocess import preprocess_image\n",
    "import ants\n",
    "import csv\n",
    "import pandas as pd\n",
    "import numpy as np\n",
    "import time\n",
    "import zipfile\n",
    "import shutil"
   ]
  },
  {
   "cell_type": "code",
   "execution_count": 48,
   "metadata": {},
   "outputs": [],
   "source": [
    "data = np.load(\"/Users/olath/Documents/GitHub/Master-thesis/Data_Experimentation/images_with_paths_file_0.npy\",allow_pickle='TRUE').item()\n"
   ]
  },
  {
   "cell_type": "code",
   "execution_count": 50,
   "metadata": {},
   "outputs": [
    {
     "ename": "FileNotFoundError",
     "evalue": "[Errno 2] No such file or directory: 'temp_folder'",
     "output_type": "error",
     "traceback": [
      "\u001b[0;31m---------------------------------------------------------------------------\u001b[0m",
      "\u001b[0;31mFileNotFoundError\u001b[0m                         Traceback (most recent call last)",
      "Cell \u001b[0;32mIn[50], line 17\u001b[0m\n\u001b[1;32m     14\u001b[0m     \u001b[38;5;28;01mif\u001b[39;00m file\u001b[38;5;241m.\u001b[39mendswith(\u001b[38;5;124m'\u001b[39m\u001b[38;5;124mI\u001b[39m\u001b[38;5;124m'\u001b[39m\u001b[38;5;241m+\u001b[39mkey\u001b[38;5;241m+\u001b[39m\u001b[38;5;124m'\u001b[39m\u001b[38;5;124m.dcm\u001b[39m\u001b[38;5;124m'\u001b[39m):\n\u001b[1;32m     15\u001b[0m         archive\u001b[38;5;241m.\u001b[39mextract(file, \u001b[38;5;124m'\u001b[39m\u001b[38;5;124mtemp_folder\u001b[39m\u001b[38;5;124m'\u001b[39m)\n\u001b[0;32m---> 17\u001b[0m \u001b[43mpreprocess_image\u001b[49m\u001b[43m(\u001b[49m\u001b[38;5;124;43m'\u001b[39;49m\u001b[38;5;124;43mtemp_folder\u001b[39;49m\u001b[38;5;124;43m'\u001b[39;49m\u001b[43m,\u001b[49m\u001b[43m \u001b[49m\u001b[38;5;124;43m'\u001b[39;49m\u001b[38;5;124;43m/Users/olath/Documents/GitHub/Master-thesis/Data_Preprocessing/test_data/\u001b[39;49m\u001b[38;5;124;43m'\u001b[39;49m\u001b[43m,\u001b[49m\u001b[43m \u001b[49m\u001b[38;5;124;43m'\u001b[39;49m\u001b[38;5;124;43mI\u001b[39;49m\u001b[38;5;124;43m'\u001b[39;49m\u001b[38;5;241;43m+\u001b[39;49m\u001b[38;5;28;43mstr\u001b[39;49m\u001b[43m(\u001b[49m\u001b[43mkey\u001b[49m\u001b[43m)\u001b[49m\u001b[43m,\u001b[49m\u001b[43m \u001b[49m\u001b[43matlas_image\u001b[49m\u001b[43m)\u001b[49m\n\u001b[1;32m     18\u001b[0m counter \u001b[38;5;241m+\u001b[39m\u001b[38;5;241m=\u001b[39m\u001b[38;5;241m1\u001b[39m\n\u001b[1;32m     19\u001b[0m total_time \u001b[38;5;241m=\u001b[39m (time\u001b[38;5;241m.\u001b[39mtime() \u001b[38;5;241m-\u001b[39m start)\n",
      "File \u001b[0;32m~/Documents/GitHub/Master-thesis/Data_Preprocessing/mri_preprocess.py:13\u001b[0m, in \u001b[0;36mpreprocess_image\u001b[0;34m(in_path, out_path, image_name, atlas_image)\u001b[0m\n\u001b[1;32m      9\u001b[0m \u001b[38;5;28;01mdef\u001b[39;00m \u001b[38;5;21mpreprocess_image\u001b[39m(in_path, out_path, image_name, atlas_image):\n\u001b[1;32m     10\u001b[0m \n\u001b[1;32m     11\u001b[0m     \u001b[38;5;66;03m#Converts input series to NIFTI, then ANTS image and preforms bias field correction.\u001b[39;00m\n\u001b[0;32m---> 13\u001b[0m     corrected_image \u001b[38;5;241m=\u001b[39m \u001b[43mconvert_and_correct\u001b[49m\u001b[43m(\u001b[49m\u001b[43min_path\u001b[49m\u001b[43m)\u001b[49m\n\u001b[1;32m     15\u001b[0m     \u001b[38;5;66;03m#Scales the input image according to the atlas, mostly stolen from Lucas\u001b[39;00m\n\u001b[1;32m     17\u001b[0m     scaled_image \u001b[38;5;241m=\u001b[39m scale_image(corrected_image, atlas_image)\n",
      "File \u001b[0;32m~/Documents/GitHub/Master-thesis/Data_Preprocessing/mri_biascorrect.py:6\u001b[0m, in \u001b[0;36mconvert_and_correct\u001b[0;34m(in_path)\u001b[0m\n\u001b[1;32m      4\u001b[0m \u001b[38;5;28;01mdef\u001b[39;00m \u001b[38;5;21mconvert_and_correct\u001b[39m(in_path):\n\u001b[0;32m----> 6\u001b[0m     \u001b[43mdicom2nifti\u001b[49m\u001b[38;5;241;43m.\u001b[39;49m\u001b[43mdicom_series_to_nifti\u001b[49m\u001b[43m(\u001b[49m\u001b[43min_path\u001b[49m\u001b[43m,\u001b[49m\u001b[43m \u001b[49m\u001b[38;5;124;43m'\u001b[39;49m\u001b[38;5;124;43mtemp.nii.gz\u001b[39;49m\u001b[38;5;124;43m'\u001b[39;49m\u001b[43m,\u001b[49m\u001b[43m \u001b[49m\u001b[43mreorient_nifti\u001b[49m\u001b[38;5;241;43m=\u001b[39;49m\u001b[38;5;28;43;01mTrue\u001b[39;49;00m\u001b[43m)\u001b[49m\n\u001b[1;32m      8\u001b[0m     \u001b[38;5;66;03m#Reads the NIFTI image as an ANTS image.\u001b[39;00m\n\u001b[1;32m     10\u001b[0m     ants_image \u001b[38;5;241m=\u001b[39m ants\u001b[38;5;241m.\u001b[39mimage_read(\u001b[38;5;124m'\u001b[39m\u001b[38;5;124mtemp.nii.gz\u001b[39m\u001b[38;5;124m'\u001b[39m)\n",
      "File \u001b[0;32m/opt/anaconda3/envs/thesis/lib/python3.11/site-packages/dicom2nifti/convert_dicom.py:75\u001b[0m, in \u001b[0;36mdicom_series_to_nifti\u001b[0;34m(original_dicom_directory, output_file, reorient_nifti)\u001b[0m\n\u001b[1;32m     73\u001b[0m \u001b[38;5;28;01mtry\u001b[39;00m:\n\u001b[1;32m     74\u001b[0m     dicom_directory \u001b[38;5;241m=\u001b[39m os\u001b[38;5;241m.\u001b[39mpath\u001b[38;5;241m.\u001b[39mjoin(temp_directory, \u001b[38;5;124m'\u001b[39m\u001b[38;5;124mdicom\u001b[39m\u001b[38;5;124m'\u001b[39m)\n\u001b[0;32m---> 75\u001b[0m     \u001b[43mshutil\u001b[49m\u001b[38;5;241;43m.\u001b[39;49m\u001b[43mcopytree\u001b[49m\u001b[43m(\u001b[49m\u001b[43moriginal_dicom_directory\u001b[49m\u001b[43m,\u001b[49m\u001b[43m \u001b[49m\u001b[43mdicom_directory\u001b[49m\u001b[43m)\u001b[49m\n\u001b[1;32m     77\u001b[0m     dicom_input \u001b[38;5;241m=\u001b[39m common\u001b[38;5;241m.\u001b[39mread_dicom_directory(dicom_directory)\n\u001b[1;32m     79\u001b[0m     \u001b[38;5;28;01mreturn\u001b[39;00m dicom_array_to_nifti(dicom_input, output_file, reorient_nifti)\n",
      "File \u001b[0;32m/opt/anaconda3/envs/thesis/lib/python3.11/shutil.py:571\u001b[0m, in \u001b[0;36mcopytree\u001b[0;34m(src, dst, symlinks, ignore, copy_function, ignore_dangling_symlinks, dirs_exist_ok)\u001b[0m\n\u001b[1;32m    532\u001b[0m \u001b[38;5;250m\u001b[39m\u001b[38;5;124;03m\"\"\"Recursively copy a directory tree and return the destination directory.\u001b[39;00m\n\u001b[1;32m    533\u001b[0m \n\u001b[1;32m    534\u001b[0m \u001b[38;5;124;03mIf exception(s) occur, an Error is raised with a list of reasons.\u001b[39;00m\n\u001b[0;32m   (...)\u001b[0m\n\u001b[1;32m    568\u001b[0m \u001b[38;5;124;03m`src` tree.\u001b[39;00m\n\u001b[1;32m    569\u001b[0m \u001b[38;5;124;03m\"\"\"\u001b[39;00m\n\u001b[1;32m    570\u001b[0m sys\u001b[38;5;241m.\u001b[39maudit(\u001b[38;5;124m\"\u001b[39m\u001b[38;5;124mshutil.copytree\u001b[39m\u001b[38;5;124m\"\u001b[39m, src, dst)\n\u001b[0;32m--> 571\u001b[0m \u001b[38;5;28;01mwith\u001b[39;00m os\u001b[38;5;241m.\u001b[39mscandir(src) \u001b[38;5;28;01mas\u001b[39;00m itr:\n\u001b[1;32m    572\u001b[0m     entries \u001b[38;5;241m=\u001b[39m \u001b[38;5;28mlist\u001b[39m(itr)\n\u001b[1;32m    573\u001b[0m \u001b[38;5;28;01mreturn\u001b[39;00m _copytree(entries\u001b[38;5;241m=\u001b[39mentries, src\u001b[38;5;241m=\u001b[39msrc, dst\u001b[38;5;241m=\u001b[39mdst, symlinks\u001b[38;5;241m=\u001b[39msymlinks,\n\u001b[1;32m    574\u001b[0m                  ignore\u001b[38;5;241m=\u001b[39mignore, copy_function\u001b[38;5;241m=\u001b[39mcopy_function,\n\u001b[1;32m    575\u001b[0m                  ignore_dangling_symlinks\u001b[38;5;241m=\u001b[39mignore_dangling_symlinks,\n\u001b[1;32m    576\u001b[0m                  dirs_exist_ok\u001b[38;5;241m=\u001b[39mdirs_exist_ok)\n",
      "\u001b[0;31mFileNotFoundError\u001b[0m: [Errno 2] No such file or directory: 'temp_folder'"
     ]
    }
   ],
   "source": [
    "atlas_image = ants.image_read('//Users/olath/Downloads/mni_icbm152_nlin_sym_09a_nifti/mni_icbm152_nlin_sym_09a/mni_icbm152_t1_tal_nlin_sym_09a.nii')\n",
    "counter = 0\n",
    "\n",
    "archive = zipfile.ZipFile('/Volumes/Extreme SSD/Download/Download_collection.zip')\n",
    "\n",
    "\n",
    "for key in data:\n",
    "\n",
    "\n",
    "    start = time.time()\n",
    "\n",
    "    for file in archive.namelist():\n",
    "        print(file)\n",
    "        if file.endswith('I'+key+'.dcm'):\n",
    "            archive.extract(file, 'temp_folder')\n",
    "\n",
    "    preprocess_image('temp_folder', '/Users/olath/Documents/GitHub/Master-thesis/Data_Preprocessing/test_data/', 'I'+str(key), atlas_image)\n",
    "    counter +=1\n",
    "    total_time = (time.time() - start)\n",
    "    print ('Processed image nr: ',counter,\" - \",key, \" in \",total_time,\" seconds.\")\n",
    "\n",
    "    shutil.rmtree('temp_folder')\n",
    "\n",
    "    if counter == 10:\n",
    "        break"
   ]
  },
  {
   "cell_type": "code",
   "execution_count": 21,
   "metadata": {},
   "outputs": [
    {
     "name": "stdout",
     "output_type": "stream",
     "text": [
      "(197, 233, 189)\n",
      "(166, 256, 256, 2)\n",
      "3\n",
      "(100, 100, 100)\n"
     ]
    }
   ],
   "source": [
    "atlas_image = ants.image_read('//Users/olath/Downloads/mni_icbm152_nlin_sym_09a_nifti/mni_icbm152_nlin_sym_09a/mni_icbm152_t1_tal_nlin_sym_09a.nii')\n",
    "\n",
    "print(atlas_image.shape)\n",
    "\n",
    "image = ants.image_read('/Users/olath/Documents/GitHub/Master-thesis/Data_Preprocessing/temp.nii.gz')\n",
    "\n",
    "print(image.shape)\n",
    "\n",
    "image_array = image.numpy()\n",
    "\n",
    "fixed_image_array = image_array[:, :, :, 0]\n",
    "\n",
    "print(len(fixed_image_array.shape))\n",
    "\n",
    "fixed_image = ants.from_numpy(fixed_image_array)\n",
    "\n",
    "ants.image_write(fixed_image, 'fixed_image' + '.nii.gz')\n",
    "\n",
    "image = ants.image_read('/Users/olath/Documents/GitHub/Master-thesis/Data_Preprocessing/I13722.nii.gz')\n",
    "\n",
    "print(image.shape)"
   ]
  }
 ],
 "metadata": {
  "kernelspec": {
   "display_name": "thesis",
   "language": "python",
   "name": "python3"
  },
  "language_info": {
   "codemirror_mode": {
    "name": "ipython",
    "version": 3
   },
   "file_extension": ".py",
   "mimetype": "text/x-python",
   "name": "python",
   "nbconvert_exporter": "python",
   "pygments_lexer": "ipython3",
   "version": "3.11.10"
  }
 },
 "nbformat": 4,
 "nbformat_minor": 2
}
