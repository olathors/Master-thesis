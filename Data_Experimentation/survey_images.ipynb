{
 "cells": [
  {
   "cell_type": "code",
   "execution_count": 6,
   "metadata": {},
   "outputs": [],
   "source": [
    "import os\n",
    "import random\n",
    "import zipfile\n",
    "from matplotlib import pyplot as plt\n",
    "from PIL import Image"
   ]
  },
  {
   "cell_type": "code",
   "execution_count": 2,
   "metadata": {},
   "outputs": [],
   "source": [
    "slices = [50, 50, 50]"
   ]
  },
  {
   "cell_type": "code",
   "execution_count": 5,
   "metadata": {},
   "outputs": [],
   "source": [
    "for subdir, dirs, files in os.walk('/Volumes/Extreme SSD/ADNI_SLICED/'):\n",
    "\n",
    "    images = files\n",
    "\n",
    "    num_of_images = len(files)\n",
    "\n",
    "    image1 = files[random.randint(0, num_of_images)]\n",
    "\n",
    "    #image2 = files[random.randint(0, num_of_images)]\n",
    "\n",
    "    #image3 = files[random.randint(0, num_of_images)]\n",
    "\n",
    "    image_archive1 = zipfile.ZipFile('/Volumes/Extreme SSD/ADNI_SLICED/'+image1)\n",
    "\n",
    "    image_archive1.extract('saggital/'+slices[0]+'.png', 'temp_folder_saggital')\n",
    "\n",
    "    image_archive1.extract('axial/'+slices[1]+'.png', 'temp_folder_axial')\n",
    "\n",
    "    image_archive1.extract('coronal/'+slices[2]+'.png', 'temp_folder_coronal')\n",
    "\n",
    "    #image_archive2 = zipfile.ZipFile('/Volumes/Extreme SSD/ADNI_SLICED/'+image2)\n",
    "\n",
    "    ##image_archive3 = zipfile.ZipFile('/Volumes/Extreme SSD/ADNI_SLICED/'+image3)\n",
    "\n",
    "    image1 = Image.open(r\"temp_folder_saggital\")\n",
    " \n",
    "    image2 = Image.open(r\"temp_folder_axial\")\n",
    "\n",
    "    image3 = Image.open(r\"temp_folder_coronal\")\n",
    "\n",
    "    fig = plt.figure(figsize=(10, 10))\n",
    "    plt.title('Image')\n",
    "\n",
    "    for i in range(1, 2):\n",
    "        fig.add_subplot(3, 3, i)\n",
    "        plt.imshow('image',i)\n",
    "\n",
    "    plt.show()\n"
   ]
  }
 ],
 "metadata": {
  "kernelspec": {
   "display_name": "thesis",
   "language": "python",
   "name": "python3"
  },
  "language_info": {
   "codemirror_mode": {
    "name": "ipython",
    "version": 3
   },
   "file_extension": ".py",
   "mimetype": "text/x-python",
   "name": "python",
   "nbconvert_exporter": "python",
   "pygments_lexer": "ipython3",
   "version": "3.11.10"
  }
 },
 "nbformat": 4,
 "nbformat_minor": 2
}
