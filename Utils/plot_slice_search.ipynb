{
 "cells": [
  {
   "cell_type": "code",
   "execution_count": 78,
   "metadata": {},
   "outputs": [],
   "source": [
    "import pandas as pd\n",
    "import matplotlib.pyplot as plt\n",
    "import numpy as np\n",
    "import seaborn as sns\n",
    "from matplotlib import style "
   ]
  },
  {
   "cell_type": "code",
   "execution_count": 98,
   "metadata": {},
   "outputs": [
    {
     "name": "stdout",
     "output_type": "stream",
     "text": [
      "['Solarize_Light2', '_classic_test_patch', '_mpl-gallery', '_mpl-gallery-nogrid', 'bmh', 'classic', 'dark_background', 'fast', 'fivethirtyeight', 'ggplot', 'grayscale', 'seaborn-v0_8', 'seaborn-v0_8-bright', 'seaborn-v0_8-colorblind', 'seaborn-v0_8-dark', 'seaborn-v0_8-dark-palette', 'seaborn-v0_8-darkgrid', 'seaborn-v0_8-deep', 'seaborn-v0_8-muted', 'seaborn-v0_8-notebook', 'seaborn-v0_8-paper', 'seaborn-v0_8-pastel', 'seaborn-v0_8-poster', 'seaborn-v0_8-talk', 'seaborn-v0_8-ticks', 'seaborn-v0_8-white', 'seaborn-v0_8-whitegrid', 'tableau-colorblind10']\n"
     ]
    }
   ],
   "source": [
    "print(plt.style.available)\n",
    "plt.style.use('seaborn-v0_8') "
   ]
  },
  {
   "cell_type": "code",
   "execution_count": 131,
   "metadata": {},
   "outputs": [],
   "source": [
    "axial_4class = pd.read_csv(\"/Users/olath/Downloads/SLICESEARCH-CN-sMCI-pMCI-AD-AXIAL.csv\")\n",
    "sagittal_4class = pd.read_csv(\"/Users/olath/Downloads/SLICESEARCH-CN-sMCI-pMCI-AD-SAGITTAL.csv\")\n",
    "coronal_4class = pd.read_csv(\"/Users/olath/Downloads/SLICESEARCH-CN-sMCI-pMCI-AD-CORONAL.csv\")\n",
    "\n",
    "axial_3class = pd.read_csv(\"/Users/olath/Downloads/SLICESEARCH-CN-sMCIpMCI-AD-AXIAL.csv\")\n",
    "sagittal_3class = pd.read_csv(\"/Users/olath/Downloads/SLICESEARCH-CN-sMCIpMCI-AD-SAGITTAL.csv\")\n",
    "coronal_3class = pd.read_csv(\"/Users/olath/Downloads/SLICESEARCH-CN-sMCIpMCI-AD-CORONAL.csv\")\n",
    "\n",
    "axial_2class = pd.read_csv(\"/Users/olath/Downloads/SLICESEARCH-sMCI-pMCI-AXIAL.csv\")\n",
    "sagittal_2class = pd.read_csv(\"/Users/olath/Downloads/SLICESEARCH-sMCI-pMCI-SAGITTAL.csv\")\n",
    "coronal_2class = pd.read_csv(\"/Users/olath/Downloads/SLICESEARCH-sMCI-pMCI-CORONAL.csv\")"
   ]
  },
  {
   "cell_type": "code",
   "execution_count": 141,
   "metadata": {},
   "outputs": [],
   "source": [
    "def plot_slice_search(axial, sagittal, coronal, current_title):\n",
    "\n",
    "    fig, ax = plt.subplots(1, figsize=(12,4))\n",
    "    ax.plot(np.linspace(0,98,50), axial['metrics/1/validation_auc (max)'].iloc[::-1], 'o-', label = 'Axial')\n",
    "    ax.plot(np.linspace(0,98,50), sagittal['metrics/1/validation_auc (max)'].iloc[::-1], 'o-', label = 'Sagittal')\n",
    "    ax.plot(np.linspace(0,98,50), coronal['metrics/1/validation_auc (max)'].iloc[::-1], 'o-', label = 'Coronal')\n",
    "    ax.set_title(current_title)\n",
    "    ax.legend(loc='lower left', title=\"Orientation:\")\n",
    "    plt.xticks(np.linspace(0,98,50))\n",
    "    plt.yticks(np.linspace(0.5,0.8,7))\n",
    "    ax.set_xlabel('Slice index')\n",
    "    ax.set_ylabel('Validation AUC')"
   ]
  },
  {
   "cell_type": "code",
   "execution_count": 145,
   "metadata": {},
   "outputs": [],
   "source": [
    "plot_slice_search(axial_4class, sagittal_4class, coronal_4class, 'Slice search CN x sMCI x pMCI x AD')\n",
    "plt.savefig('/Users/olath/Documents/Slice search CN x sMCI x pMCI x AD.pdf', dpi = 1200, bbox_inches='tight')\n",
    "plt.close() "
   ]
  },
  {
   "cell_type": "code",
   "execution_count": 146,
   "metadata": {},
   "outputs": [],
   "source": [
    "plot_slice_search(axial_3class, sagittal_3class, coronal_3class, 'Slice search CN x MCI x AD')\n",
    "plt.savefig('/Users/olath/Documents/Slice search CN x MCI x AD.pdf', dpi = 1200, bbox_inches='tight')\n",
    "plt.close() "
   ]
  },
  {
   "cell_type": "code",
   "execution_count": 148,
   "metadata": {},
   "outputs": [],
   "source": [
    "plot_slice_search(axial_2class, sagittal_2class, coronal_2class, 'Slice search sMCI x pMCI')\n",
    "plt.savefig('/Users/olath/Documents/Slice search sMCI x pMCI.pdf', dpi = 1200, bbox_inches='tight')\n",
    "plt.close() "
   ]
  }
 ],
 "metadata": {
  "kernelspec": {
   "display_name": "base",
   "language": "python",
   "name": "python3"
  },
  "language_info": {
   "codemirror_mode": {
    "name": "ipython",
    "version": 3
   },
   "file_extension": ".py",
   "mimetype": "text/x-python",
   "name": "python",
   "nbconvert_exporter": "python",
   "pygments_lexer": "ipython3",
   "version": "3.12.7"
  }
 },
 "nbformat": 4,
 "nbformat_minor": 2
}
