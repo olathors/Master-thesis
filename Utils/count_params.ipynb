{
 "cells": [
  {
   "cell_type": "code",
   "execution_count": 1,
   "id": "01532dab",
   "metadata": {},
   "outputs": [],
   "source": [
    "import torch\n",
    "import os\n",
    "from torch.utils.data import DataLoader\n",
    "from mri_dataset_combined_3 import MRI_Dataset as MRI_Dataset_combined\n",
    "from mri_dataset import MRI_Dataset\n",
    "from torchvision.models.efficientnet import efficientnet_v2_m, efficientnet_v2_l\n",
    "from combined_classifier import DoubleCombinedClassifierLogReg, CombinedClassifierL, CombinedClassifierLogReg, FourCombinedClassifierLogReg\n",
    "from tqdm import tqdm\n",
    "from evaluation import compute_metrics_binary\n",
    "from roc_curve import RocCurveDisplay\n",
    "from sklearn.metrics import ConfusionMatrixDisplay#, RocCurveDisplay\n",
    "import matplotlib.pyplot as plt\n",
    "import numpy as np\n",
    "import sklearn\n",
    "from sklearn.metrics import roc_auc_score,roc_curve,auc\n",
    "import scipy.stats\n",
    "from itertools import cycle\n",
    "from threshold_tuner import ClassificationThresholdTuner"
   ]
  },
  {
   "cell_type": "code",
   "execution_count": 23,
   "id": "455d26d5",
   "metadata": {},
   "outputs": [],
   "source": [
    "axial1 = efficientnet_v2_m(num_classes = 3)\n",
    "sagittal1 = efficientnet_v2_m(num_classes = 3)\n",
    "coronal1 = efficientnet_v2_m(num_classes = 3)\n",
    "axial2 = efficientnet_v2_m(num_classes = 2)\n",
    "sagittal2 = efficientnet_v2_m(num_classes = 2)\n",
    "coronal2 = efficientnet_v2_m(num_classes = 2)\n",
    "\n",
    "model = DoubleCombinedClassifierLogReg(4, axial1, sagittal1, coronal1, axial2, sagittal2, coronal2, dropout = 0.0, num_outputs = 64)"
   ]
  },
  {
   "cell_type": "code",
   "execution_count": 25,
   "id": "8dd10073",
   "metadata": {},
   "outputs": [],
   "source": [
    "axial = efficientnet_v2_l(num_classes = 4)\n",
    "sagittal = efficientnet_v2_l(num_classes = 4)\n",
    "coronal = efficientnet_v2_l(num_classes = 4)\n",
    "\n",
    "model = CombinedClassifierLogReg(4, axial, sagittal, coronal, dropout = 0.0, num_outputs = 64)"
   ]
  },
  {
   "cell_type": "code",
   "execution_count": 27,
   "id": "a538dc1e",
   "metadata": {},
   "outputs": [],
   "source": [
    "axial1 = efficientnet_v2_m(num_classes = 2)\n",
    "sagittal1 = efficientnet_v2_m(num_classes = 2)\n",
    "coronal1 = efficientnet_v2_m(num_classes = 2)\n",
    "\n",
    "axial2 = efficientnet_v2_m(num_classes = 2)\n",
    "sagittal2 = efficientnet_v2_m(num_classes = 2)\n",
    "coronal2 = efficientnet_v2_m(num_classes = 2)\n",
    "\n",
    "axial3 = efficientnet_v2_m(num_classes = 2)\n",
    "sagittal3 = efficientnet_v2_m(num_classes = 2)\n",
    "coronal3 = efficientnet_v2_m(num_classes = 2)\n",
    "\n",
    "axial4 = efficientnet_v2_m(num_classes = 2)\n",
    "sagittal4 = efficientnet_v2_m(num_classes = 2)\n",
    "coronal4 = efficientnet_v2_m(num_classes = 2)\n",
    "\n",
    "model = FourCombinedClassifierLogReg(4, [(axial1), (sagittal1), (coronal1), (axial2), (sagittal2), (coronal2), (axial3), (sagittal3), (coronal3), (axial4), (sagittal4), (coronal4)], dropout= 0.4, num_outputs = 64)"
   ]
  },
  {
   "cell_type": "code",
   "execution_count": 28,
   "id": "9fea7285",
   "metadata": {},
   "outputs": [
    {
     "name": "stdout",
     "output_type": "stream",
     "text": [
      "636274036\n",
      "1973764\n"
     ]
    }
   ],
   "source": [
    "pytorch_total_params = sum(p.numel() for p in model.parameters())\n",
    "print(pytorch_total_params)\n",
    "pytorch_total_params_train = sum(p.numel() for p in model.parameters() if p.requires_grad)\n",
    "print(pytorch_total_params_train)"
   ]
  }
 ],
 "metadata": {
  "kernelspec": {
   "display_name": "base",
   "language": "python",
   "name": "python3"
  },
  "language_info": {
   "codemirror_mode": {
    "name": "ipython",
    "version": 3
   },
   "file_extension": ".py",
   "mimetype": "text/x-python",
   "name": "python",
   "nbconvert_exporter": "python",
   "pygments_lexer": "ipython3",
   "version": "3.12.7"
  }
 },
 "nbformat": 4,
 "nbformat_minor": 5
}
