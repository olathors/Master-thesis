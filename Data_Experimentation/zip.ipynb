{
 "cells": [
  {
   "cell_type": "code",
   "execution_count": 45,
   "metadata": {},
   "outputs": [],
   "source": [
    "import os\n",
    "import re\n",
    "import zipfile\n",
    "import zlib"
   ]
  },
  {
   "cell_type": "code",
   "execution_count": 63,
   "metadata": {},
   "outputs": [],
   "source": [
    "in_path = '/Users/olath/Documents/ADNI_SLICED_RESCALED'\n",
    "out_path = \"/Users/olath/Documents/ADNI_SLICED_RESCALED/UPLOAD/\"\n",
    "os.chdir(in_path)\n",
    "m = re.search(r'\\d+$', in_path)\n",
    "file_names = {}\n",
    "counter = 0\n",
    "for subdir, dirs, files in os.walk(in_path):\n",
    "    m = re.search(r'\\d+$', subdir)\n",
    "    if m is not None:\n",
    "        file_names[subdir[m.start():m.end()]] = subdir\n",
    "    if len(file_names) == 100:\n",
    "        zf = zipfile.ZipFile(out_path+str(counter)+\".zip\", mode = \"w\", compression=zipfile.ZIP_DEFLATED)\n",
    "        for image in file_names:\n",
    "            for root, dirs, files in os.walk(file_names[image]):\n",
    "                for file in files:\n",
    "                    zf.write(os.path.join(root, file), \n",
    "                           os.path.relpath(os.path.join(root, file), \n",
    "                                           os.path.join(out_path, '..')))\n",
    "        file_names = {}\n",
    "        counter += 1\n",
    "        zf.close()\n",
    "\n",
    "zf = zipfile.ZipFile(out_path+str(counter)+\".zip\", mode = \"w\", compression=zipfile.ZIP_DEFLATED)\n",
    "for image in file_names:\n",
    "    for root, dirs, files in os.walk(file_names[image]):\n",
    "        for file in files:\n",
    "            zf.write(os.path.join(root, file), \n",
    "                os.path.relpath(os.path.join(root, file), \n",
    "                    os.path.join(out_path, '..')))\n",
    "zf.close()\n",
    "            \n",
    "                \n",
    "\n",
    "\n",
    "\n",
    "\n",
    "\n"
   ]
  },
  {
   "cell_type": "code",
   "execution_count": 64,
   "metadata": {},
   "outputs": [],
   "source": [
    "dir_name = '/Users/olath/Documents/ADNI_SLICED_RESCALED/UPLOADTEST/'\n",
    "extension = \".zip\"\n",
    "\n",
    "os.chdir(dir_name) # change directory from working dir to dir with files\n",
    "\n",
    "for item in os.listdir(dir_name): # loop through items in dir\n",
    "    if item.endswith(extension): # check for \".zip\" extension\n",
    "        file_name = os.path.abspath(item) # get full path of files\n",
    "        zip_ref = zipfile.ZipFile(file_name) # create zipfile object\n",
    "        zip_ref.extractall(dir_name) # extract file to dir\n",
    "        zip_ref.close() # close file\n",
    "        os.remove(file_name) # delete zipped file\n",
    "\n",
    "\n",
    "\n"
   ]
  },
  {
   "cell_type": "code",
   "execution_count": null,
   "metadata": {},
   "outputs": [],
   "source": [
    "with zipfile.ZipFile('/fp/projects01/ec29/olathor/thesis/Dataset/ADNI_SLICED_RESCALED_PARTS_FIXED.zip', 'r') as zip_ref:\n",
    "    zip_ref.write()"
   ]
  }
 ],
 "metadata": {
  "kernelspec": {
   "display_name": "thesis",
   "language": "python",
   "name": "python3"
  },
  "language_info": {
   "codemirror_mode": {
    "name": "ipython",
    "version": 3
   },
   "file_extension": ".py",
   "mimetype": "text/x-python",
   "name": "python",
   "nbconvert_exporter": "python",
   "pygments_lexer": "ipython3",
   "version": "3.11.10"
  }
 },
 "nbformat": 4,
 "nbformat_minor": 2
}
