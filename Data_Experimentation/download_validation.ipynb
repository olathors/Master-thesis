{
 "cells": [
  {
   "cell_type": "code",
   "execution_count": 2,
   "metadata": {},
   "outputs": [],
   "source": [
    "import pandas as pd\n",
    "import os"
   ]
  },
  {
   "cell_type": "code",
   "execution_count": 3,
   "metadata": {},
   "outputs": [],
   "source": [
    "IMAGES = pd.read_csv(\"data/Big_cohort_MRI_Images_25Oct2024.csv\")"
   ]
  },
  {
   "cell_type": "code",
   "execution_count": 6,
   "metadata": {},
   "outputs": [],
   "source": [
    "patients_with_images = list()\n",
    "\n",
    "for index, row in IMAGES.iterrows():\n",
    "    if str(row['subject_id']) not in patients_with_images:\n",
    "        patients_with_images.append(str(row['subject_id']))\n",
    "\n",
    "#print(patients_with_images)\n",
    "#print(len(patients_with_images))\n",
    "        "
   ]
  },
  {
   "cell_type": "code",
   "execution_count": 5,
   "metadata": {},
   "outputs": [],
   "source": [
    "download_path = '/Volumes/Extreme SSD/ADNI/'\n",
    "\n",
    "patients = -1\n",
    "images = 0\n",
    "\n",
    "for subdir, dirs, files in os.walk(download_path):\n",
    "    temp_str = str(subdir)\n",
    "    temp_str = temp_str.split('/')\n",
    "    #print(temp_str)\n",
    "    if len(temp_str) == 5:\n",
    "        patients += 1\n",
    "    elif len(temp_str) == 8:\n",
    "        images +=1\n",
    "\n",
    "#print(patients)\n",
    "#print(images)"
   ]
  }
 ],
 "metadata": {
  "kernelspec": {
   "display_name": "thesis",
   "language": "python",
   "name": "python3"
  },
  "language_info": {
   "codemirror_mode": {
    "name": "ipython",
    "version": 3
   },
   "file_extension": ".py",
   "mimetype": "text/x-python",
   "name": "python",
   "nbconvert_exporter": "python",
   "pygments_lexer": "ipython3",
   "version": "3.11.10"
  }
 },
 "nbformat": 4,
 "nbformat_minor": 2
}
